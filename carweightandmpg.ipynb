{
  "nbformat": 4,
  "nbformat_minor": 0,
  "metadata": {
    "colab": {
      "provenance": [],
      "authorship_tag": "ABX9TyP6HgDE7bf0Xx/n/YMPYnGe",
      "include_colab_link": true
    },
    "kernelspec": {
      "name": "python3",
      "display_name": "Python 3"
    },
    "language_info": {
      "name": "python"
    }
  },
  "cells": [
    {
      "cell_type": "markdown",
      "metadata": {
        "id": "view-in-github",
        "colab_type": "text"
      },
      "source": [
        "<a href=\"https://colab.research.google.com/github/Jyotishmoy12/MachineLearning/blob/main/carweightandmpg.ipynb\" target=\"_parent\"><img src=\"https://colab.research.google.com/assets/colab-badge.svg\" alt=\"Open In Colab\"/></a>"
      ]
    },
    {
      "cell_type": "markdown",
      "source": [
        "\n",
        "\n",
        "\n",
        "### Overview of Linear Regression\n",
        "\n",
        "**Linear Regression** is a statistical method for modeling the relationship between a dependent variable \\(y\\) and one or more independent variables \\(X\\). The simplest form is simple linear regression, which involves one independent variable.\n",
        "\n",
        "The general form of the linear regression equation is:\n",
        "\n",
        "\\[\n",
        "y = w \\cdot X + b\n",
        "\\]\n",
        "\n",
        "Where:\n",
        "- \\(y\\) = predicted value (dependent variable, e.g., MPG)\n",
        "- \\(X\\) = feature (independent variable, e.g., car weight)\n",
        "- \\(w\\) = weight (slope of the line)\n",
        "- \\(b\\) = bias (y-intercept)\n",
        "\n",
        "### Step-by-Step Explanation\n",
        "\n",
        "#### 1. **Cost Function**\n",
        "\n",
        "The cost function measures how well the linear regression model fits the data. The most commonly used cost function is the **Mean Squared Error (MSE)**, which is defined as:\n",
        "\n",
        "\\[\n",
        "J(w, b) = \\frac{1}{2m} \\sum_{i=1}^{m} (y_{\\text{pred}}^i - y^i)^2\n",
        "\\]\n",
        "\n",
        "Where:\n",
        "- \\(m\\) = number of data points\n",
        "- \\(y_{\\text{pred}}^i\\) = predicted value for the \\(i\\)-th data point\n",
        "- \\(y^i\\) = actual value for the \\(i\\)-th data point\n",
        "\n",
        "The factor of \\(\\frac{1}{2}\\) is used for convenience during differentiation.\n",
        "\n",
        "#### 2. **Gradient Descent**\n",
        "\n",
        "**Gradient Descent** is an optimization algorithm used to minimize the cost function by iteratively updating the parameters \\(w\\) and \\(b\\). The updates are made in the direction of the negative gradient of the cost function.\n",
        "\n",
        "**Gradients** for \\(w\\) and \\(b\\) are computed as follows:\n",
        "\n",
        "\\[\n",
        "dw = \\frac{1}{m} \\sum_{i=1}^{m} (y_{\\text{pred}}^i - y^i) \\cdot X^i\n",
        "\\]\n",
        "\n",
        "\\[\n",
        "db = \\frac{1}{m} \\sum_{i=1}^{m} (y_{\\text{pred}}^i - y^i)\n",
        "\\]\n",
        "\n",
        "Where:\n",
        "- \\(dw\\) = gradient of the cost function with respect to weight \\(w\\)\n",
        "- \\(db\\) = gradient of the cost function with respect to bias \\(b\\)\n",
        "\n",
        "#### 3. **Updating Parameters**\n",
        "\n",
        "The parameters \\(w\\) and \\(b\\) are updated using the gradients calculated above and a learning rate \\(\\alpha\\):\n",
        "\n",
        "\\[\n",
        "w = w - \\alpha \\cdot dw\n",
        "\\]\n",
        "\n",
        "\\[\n",
        "b = b - \\alpha \\cdot db\n",
        "\\]\n",
        "\n",
        "Where:\n",
        "- \\(\\alpha\\) = learning rate (a small positive number determining the step size for each iteration)\n",
        "\n",
        "#### 4. **Normalization**\n",
        "\n",
        "Normalization is a preprocessing step to rescale the input feature \\(X\\) to a standard range, usually \\([0, 1]\\) or \\([-1, 1]\\). This helps in stabilizing the training process and improving convergence speed.\n",
        "\n",
        "Normalization can be done using:\n",
        "\n",
        "\\[\n",
        "X_{\\text{norm}} = \\frac{X - \\text{min}(X)}{\\text{max}(X) - \\text{min}(X)}\n",
        "\\]\n",
        "\n",
        "#### 5. **Prediction**\n",
        "\n",
        "Once the model is trained, predictions can be made using the learned parameters:\n",
        "\n",
        "\\[\n",
        "y_{\\text{pred}} = w \\cdot X_{\\text{norm}} + b\n",
        "\\]\n",
        "\n",
        "For making predictions, ensure that the input feature is normalized in the same way as during training.\n",
        "\n",
        "### Example Walkthrough\n",
        "\n",
        "1. **Dataset Creation**: Imagine we create a dataset of car weights and their respective miles per gallon (MPG) values. The relationship is often inverse; heavier cars generally consume more fuel.\n",
        "\n",
        "2. **Normalization**: We normalize the car weights to bring them between 0 and 1, ensuring the algorithm trains efficiently.\n",
        "\n",
        "3. **Training the Model**:\n",
        "   - Initialize \\(w\\) and \\(b\\) (usually to zero).\n",
        "   - For a set number of iterations:\n",
        "     - Compute the predictions using the current \\(w\\) and \\(b\\).\n",
        "     - Calculate the cost using the MSE formula.\n",
        "     - Compute the gradients \\(dw\\) and \\(db\\).\n",
        "     - Update \\(w\\) and \\(b\\) using the learning rate.\n",
        "\n",
        "4. **Final Values**: After the training, the final values of \\(w\\) and \\(b\\) represent the slope and intercept of the best-fit line through the data.\n",
        "\n",
        "5. **Prediction**: To predict the MPG of a new car weight, normalize the weight and apply the learned parameters to calculate the predicted MPG.\n",
        "\n",
        "6. **Visualization**: Visualizing the data points along with the fitted regression line provides insight into the model's performance and how well it fits the data.\n",
        "\n",
        "### Summary\n",
        "\n",
        "- **Linear Regression** uses a linear equation to model the relationship between variables.\n",
        "- The **Cost Function** quantifies the error in predictions.\n",
        "- **Gradient Descent** is the method for minimizing the cost function and learning optimal parameters.\n",
        "- **Normalization** is important for effective training.\n",
        "- The final model can predict outcomes for new data based on the learned parameters.\n",
        "\n"
      ],
      "metadata": {
        "id": "urhLlaimN3Sd"
      }
    },
    {
      "cell_type": "code",
      "source": [],
      "metadata": {
        "id": "T6poetIKN24n"
      },
      "execution_count": null,
      "outputs": []
    },
    {
      "cell_type": "code",
      "execution_count": 24,
      "metadata": {
        "colab": {
          "base_uri": "https://localhost:8080/"
        },
        "id": "CPLb2HZWJbL6",
        "outputId": "083a0e2a-b2ce-448d-8af5-73dc44c214cb"
      },
      "outputs": [
        {
          "output_type": "stream",
          "name": "stdout",
          "text": [
            "    Car Weight        MPG\n",
            "0  3248.357077  34.685688\n",
            "1  2930.867849  39.850031\n",
            "2  3323.844269  36.076128\n",
            "3  3761.514928  30.780296\n",
            "4  2882.923313  40.848195\n"
          ]
        }
      ],
      "source": [
        "import numpy as np\n",
        "import pandas as pd\n",
        "import matplotlib.pyplot as plt\n",
        "\n",
        "# Create a simple synthetic dataset\n",
        "np.random.seed(42)  # For reproducibility\n",
        "car_weight = np.random.normal(3000, 500, 100)  # Car weights centered around 3000 lbs\n",
        "mpg = 40 - (car_weight - 3000) * 0.01 + np.random.normal(0, 2, 100)  # MPG with some noise\n",
        "\n",
        "data = pd.DataFrame({'Car Weight': car_weight, 'MPG': mpg})\n",
        "\n",
        "# Show the first few rows of the dataset\n",
        "print(data.head())\n"
      ]
    },
    {
      "cell_type": "code",
      "source": [
        "# Normalize the car weight\n",
        "car_weight_min = data['Car Weight'].min()\n",
        "car_weight_max = data['Car Weight'].max()\n",
        "data['Normalized Car Weight'] = (data['Car Weight'] - car_weight_min) / (car_weight_max - car_weight_min)\n",
        "\n",
        "# Gradient Descent Function\n",
        "def gradient_descent(X, y, w, b, alpha, iterations):\n",
        "    m = len(y)\n",
        "    cost_history = []\n",
        "\n",
        "    for i in range(iterations):\n",
        "        # Calculate predictions\n",
        "        y_pred = w * X + b\n",
        "\n",
        "        # Calculate the cost (Mean Squared Error)\n",
        "        cost = (1 / (2 * m)) * np.sum((y_pred - y) ** 2)\n",
        "        cost_history.append(cost)\n",
        "\n",
        "        # Calculate gradients\n",
        "        dw = (1 / m) * np.dot(X, (y_pred - y))\n",
        "        db = (1 / m) * np.sum(y_pred - y)\n",
        "\n",
        "        # Clip gradients if too large (Gradient Clipping)\n",
        "        dw = np.clip(dw, -1, 1)\n",
        "        db = np.clip(db, -1, 1)\n",
        "\n",
        "        # Update weights\n",
        "        w -= alpha * dw\n",
        "        b -= alpha * db\n",
        "\n",
        "        # Print cost every 100 iterations for debugging\n",
        "        if i % 100 == 0:\n",
        "            print(f\"Iteration {i}: Cost = {cost}\")\n",
        "\n",
        "    return w, b, cost_history\n"
      ],
      "metadata": {
        "id": "ssnhYWARKzxn"
      },
      "execution_count": 25,
      "outputs": []
    },
    {
      "cell_type": "code",
      "source": [
        "# Parameters\n",
        "alpha = 0.0001  # Reduced learning rate\n",
        "iterations = 1000  # Number of iterations\n",
        "w_initial = 0  # Initial weight\n",
        "b_initial = 0  # Initial bias\n",
        "\n",
        "# Train the model\n",
        "final_w, final_b, cost_history = gradient_descent(\n",
        "    data['Normalized Car Weight'],\n",
        "    data['MPG'],\n",
        "    w=w_initial,\n",
        "    b=b_initial,\n",
        "    alpha=alpha,\n",
        "    iterations=iterations\n",
        ")\n",
        "\n",
        "# Print final parameters\n",
        "print(f\"Final values of the model:\")\n",
        "print(f\"w (Weight): {final_w}\")\n",
        "print(f\"b (Bias): {final_b}\")\n"
      ],
      "metadata": {
        "colab": {
          "base_uri": "https://localhost:8080/"
        },
        "id": "3uHULuCnMtuU",
        "outputId": "f0ad231d-6524-435d-b26f-8b80caca934c"
      },
      "execution_count": 26,
      "outputs": [
        {
          "output_type": "stream",
          "name": "stdout",
          "text": [
            "Iteration 0: Cost = 835.8896624555343\n",
            "Iteration 100: Cost = 835.2655939437482\n",
            "Iteration 200: Cost = 834.6417736823416\n",
            "Iteration 300: Cost = 834.0182016713152\n",
            "Iteration 400: Cost = 833.3948779106685\n",
            "Iteration 500: Cost = 832.7718024004016\n",
            "Iteration 600: Cost = 832.1489751405147\n",
            "Iteration 700: Cost = 831.5263961310073\n",
            "Iteration 800: Cost = 830.90406537188\n",
            "Iteration 900: Cost = 830.2819828631325\n",
            "Final values of the model:\n",
            "w (Weight): 0.10000000000000184\n",
            "b (Bias): 0.10000000000000184\n"
          ]
        }
      ]
    },
    {
      "cell_type": "code",
      "source": [
        "# Make a prediction for a car weight of 3000 lbs\n",
        "car_weight_to_predict = 3000\n",
        "normalized_weight_to_predict = (car_weight_to_predict - car_weight_min) / (car_weight_max - car_weight_min)\n",
        "predicted_mpg = final_w * normalized_weight_to_predict + final_b\n",
        "\n",
        "print(f\"Predicted MPG for a car weighing {car_weight_to_predict} lbs: {predicted_mpg}\")\n",
        "\n",
        "# Plot the data points\n",
        "plt.scatter(data['Normalized Car Weight'], data['MPG'], color='blue', label='Data Points')\n",
        "\n",
        "# Plot the fitted line\n",
        "car_weight_range = np.linspace(0, 1, 100)  # Range of normalized weights\n",
        "predicted_mpg_range = final_w * car_weight_range + final_b\n",
        "plt.plot(car_weight_range, predicted_mpg_range, color='red', label='Fitted Line')\n",
        "\n",
        "# Highlight the predicted MPG\n",
        "plt.scatter(normalized_weight_to_predict, predicted_mpg, color='green', marker='o', s=100, label=f'Prediction for {car_weight_to_predict} lbs')\n",
        "\n",
        "# Add labels and title\n",
        "plt.xlabel('Normalized Car Weight (lbs)')\n",
        "plt.ylabel('MPG')\n",
        "plt.title('Car Fuel Efficiency Prediction using Linear Regression (Normalized Data)')\n",
        "plt.legend()\n",
        "plt.show()\n"
      ],
      "metadata": {
        "colab": {
          "base_uri": "https://localhost:8080/",
          "height": 489
        },
        "id": "uRA1-lXJMtq7",
        "outputId": "a1d66616-7e48-4b36-ec18-5d001fe57515"
      },
      "execution_count": 27,
      "outputs": [
        {
          "output_type": "stream",
          "name": "stdout",
          "text": [
            "Predicted MPG for a car weighing 3000 lbs: 0.15858075718811332\n"
          ]
        },
        {
          "output_type": "display_data",
          "data": {
            "text/plain": [
              "<Figure size 640x480 with 1 Axes>"
            ],
            "image/png": "[encoded data removed]"
          },
          "metadata": {}
        }
      ]
    }
  ]
}