{
  "nbformat": 4,
  "nbformat_minor": 0,
  "metadata": {
    "colab": {
      "provenance": [],
      "authorship_tag": "ABX9TyMkajzT4PrMcI03h5WZk8Zk",
      "include_colab_link": true
    },
    "kernelspec": {
      "name": "python3",
      "display_name": "Python 3"
    },
    "language_info": {
      "name": "python"
    }
  },
  "cells": [
    {
      "cell_type": "markdown",
      "metadata": {
        "id": "view-in-github",
        "colab_type": "text"
      },
      "source": [
        "<a href=\"https://colab.research.google.com/github/Jyotishmoy12/NeuralNetworks/blob/main/Neuralnetworksbasics.ipynb\" target=\"_parent\"><img src=\"https://colab.research.google.com/assets/colab-badge.svg\" alt=\"Open In Colab\"/></a>"
      ]
    },
    {
      "cell_type": "code",
      "execution_count": null,
      "metadata": {
        "colab": {
          "base_uri": "https://localhost:8080/"
        },
        "id": "-VekkIVKU9Vk",
        "outputId": "8ca3c7ae-c86f-4bc2-efc1-846b63e65b16"
      },
      "outputs": [
        {
          "output_type": "stream",
          "name": "stdout",
          "text": [
            "[4.8, 1.21, 2.385]\n"
          ]
        }
      ],
      "source": [
        "#3 neurons 4 outputs\n",
        "inputs=[1, 2, 3, 2.5]\n",
        "weights1=[0.2, 0.8,-0.5, 1.0]\n",
        "weights2=[0.5, -0.91, 0.26, -0.5]\n",
        "weights3=[-0.26, -0.27, 0.17, 0.87]\n",
        "bias1=2\n",
        "bias2=3\n",
        "bias3=0.5\n",
        "\n",
        "output=[inputs[0]*weights1[0]+inputs[1]*weights1[1]+inputs[2]*weights1[2]+inputs[3]*weights1[3]+bias1,\n",
        "        inputs[0]*weights2[0]+inputs[1]*weights2[1]+inputs[2]*weights2[2]+inputs[3]*weights2[3]+bias2,\n",
        "        inputs[0]*weights3[0]+inputs[1]*weights3[1]+inputs[2]*weights3[2]+inputs[3]*weights3[3]+bias3]\n",
        "print(output )"
      ]
    },
    {
      "cell_type": "code",
      "source": [
        "inputs=[1, 2, 3, 2.5]\n",
        "weights=[[0.2, 0.8,-0.5, 1.0],\n",
        "         [0.5, -0.91, 0.26, -0.5],\n",
        "         [-0.26, -0.27, 0.17, 0.87]]\n",
        "\n",
        "biases=[2, 3, 0.5]\n",
        "\n",
        "layer_outputs=[] #output of current layer\n",
        "for neuron_weights,neuron_bias in zip(weights, biases):\n",
        "  neuron_output=0 #output of the given neuron\n",
        "  for n_input,weight in zip(inputs, neuron_weights):\n",
        "    neuron_output+=n_input*weight\n",
        "  neuron_output+=neuron_bias\n",
        "  layer_outputs.append(neuron_output)\n",
        "\n",
        "print(layer_outputs)"
      ],
      "metadata": {
        "colab": {
          "base_uri": "https://localhost:8080/"
        },
        "id": "j_wrhpRodgmA",
        "outputId": "21dd7880-9f03-4b70-b621-c8877d07d666"
      },
      "execution_count": null,
      "outputs": [
        {
          "output_type": "stream",
          "name": "stdout",
          "text": [
            "[4.8, 1.21, 2.385]\n"
          ]
        }
      ]
    },
    {
      "cell_type": "code",
      "source": [
        "import numpy as np\n",
        "inputs=[1, 2, 3, 2.5]\n",
        "weights=[0.2, 0.8, -0.5, 1.0]\n",
        "bias=2\n",
        "output=np.dot(inputs, weights)+bias\n",
        "print(output)\n"
      ],
      "metadata": {
        "colab": {
          "base_uri": "https://localhost:8080/"
        },
        "id": "-l9X2Q_zj14r",
        "outputId": "bdacba02-de15-4a6c-be93-9a7662dbd397"
      },
      "execution_count": null,
      "outputs": [
        {
          "output_type": "stream",
          "name": "stdout",
          "text": [
            "4.8\n"
          ]
        }
      ]
    },
    {
      "cell_type": "code",
      "source": [
        "#3 neurons 4 outputs\n",
        "import numpy as np\n",
        "inputs=[1, 2, 3, 2.5]\n",
        "weights=[[0.2, 0.8,-0.5, 1.0],\n",
        "         [0.5, -0.91, 0.26, -0.5],\n",
        "         [-0.26, -0.27, 0.17, 0.87]]\n",
        "\n",
        "biases=[2, 3, 0.5]\n",
        "output=np.dot(weights, inputs)+biases  #why weights are before than inputs?\n",
        "#we want things to be indexed by weights not by inputs\n",
        "print(output)"
      ],
      "metadata": {
        "colab": {
          "base_uri": "https://localhost:8080/"
        },
        "id": "otCPz7gtkZPV",
        "outputId": "f3104111-0d8c-42d1-dde5-eadb798a398c"
      },
      "execution_count": null,
      "outputs": [
        {
          "output_type": "stream",
          "name": "stdout",
          "text": [
            "[4.8   1.21  2.385]\n"
          ]
        }
      ]
    },
    {
      "cell_type": "code",
      "source": [
        "import numpy as np\n",
        "\n",
        "inputs=[[1, 2, 3, 2.5],\n",
        "        [2.0, 5.0, -1.0, 2.0],\n",
        "        [-1.5, 2.7, 3.3, -0.8]]\n",
        "\n",
        "weights=[[0.2, 0.8,-0.5, 1.0],\n",
        "         [0.5, -0.91, 0.26, -0.5],\n",
        "         [-0.26, -0.27, 0.17, 0.87]]\n",
        "\n",
        "biases=[2, 3, 0.5]\n",
        "output=np.dot(inputs,np.array(weights).T)+biases\n",
        "\n",
        "print(output)"
      ],
      "metadata": {
        "colab": {
          "base_uri": "https://localhost:8080/"
        },
        "id": "wL__FcSMmuEb",
        "outputId": "99ca94d8-062c-4f95-ba64-7172c51d5367"
      },
      "execution_count": null,
      "outputs": [
        {
          "output_type": "stream",
          "name": "stdout",
          "text": [
            "[[ 4.8    1.21   2.385]\n",
            " [ 8.9   -1.81   0.2  ]\n",
            " [ 1.41   1.051  0.026]]\n"
          ]
        }
      ]
    },
    {
      "cell_type": "code",
      "source": [
        "import numpy as np\n",
        "\n",
        "inputs=[[1, 2, 3, 2.5],\n",
        "        [2.0, 5.0, -1.0, 2.0],\n",
        "        [-1.5, 2.7, 3.3, -0.8]]\n",
        "\n",
        "weights=[[0.2, 0.8,-0.5, 1.0],\n",
        "         [0.5, -0.91, 0.26, -0.5],\n",
        "         [-0.26, -0.27, 0.17, 0.87]]\n",
        "\n",
        "biases=[2, 3, 0.5]\n",
        "\n",
        "weights2=[[0.1 , -0.14, 0.5],\n",
        "         [-0.5, 0.12, -0.33],\n",
        "         [-0.44, 0.73, -0.13]]\n",
        "\n",
        "biases2=[-1, 2, -0.5]\n",
        "\n",
        "layer1_output=np.dot(inputs,np.array(weights).T)+biases\n",
        "layer2_output=np.dot(layer1_output,np.array(weights2).T)+biases2\n",
        "\n",
        "print(layer2_output)"
      ],
      "metadata": {
        "colab": {
          "base_uri": "https://localhost:8080/"
        },
        "id": "Krfclo1W17M3",
        "outputId": "4145eecc-a5c3-4d6f-c72c-f573820fb645"
      },
      "execution_count": null,
      "outputs": [
        {
          "output_type": "stream",
          "name": "stdout",
          "text": [
            "[[ 0.5031  -1.04185 -2.03875]\n",
            " [ 0.2434  -2.7332  -5.7633 ]\n",
            " [-0.99314  1.41254 -0.35655]]\n"
          ]
        }
      ]
    },
    {
      "cell_type": "code",
      "source": [
        "import numpy as np\n",
        "\n",
        "np.random.seed(0)\n",
        "X=[[1, 2, 3, 2.5],\n",
        "  [2.0, 5.0, -1.0, 2.0],\n",
        "  [-1.5, 2.7, 3.3, -0.8]]\n",
        "\n",
        "class Layer_Dense:\n",
        "  def __init__(self, n_inputs, n_neurons):\n",
        "    self.weights=0.10*np.random.randn(n_inputs, n_neurons)\n",
        "    self.biases=np.zeros((1, n_neurons))\n",
        "  def forward(self, inputs):\n",
        "    self.output=np.dot(inputs, self.weights)+self.biases\n",
        "\n",
        "layer1=Layer_Dense(4, 5)\n",
        "layer2=Layer_Dense(5, 2)\n",
        "\n",
        "layer1.forward(X)\n",
        "# print(layer1.output)\n",
        "layer2.forward(layer1.output)\n",
        "print(layer2.output)\n",
        "\n",
        "\n",
        "\n"
      ],
      "metadata": {
        "id": "TADw1vVS3xGO",
        "colab": {
          "base_uri": "https://localhost:8080/"
        },
        "outputId": "6caa017f-1e64-4d49-bdf4-e32803e63a12"
      },
      "execution_count": null,
      "outputs": [
        {
          "output_type": "stream",
          "name": "stdout",
          "text": [
            "[[ 0.148296   -0.08397602]\n",
            " [ 0.14100315 -0.01340469]\n",
            " [ 0.20124979 -0.07290616]]\n"
          ]
        }
      ]
    },
    {
      "cell_type": "code",
      "source": [
        "#rectified linear activation function\n",
        "import numpy as np\n",
        "\n",
        "np.random.seed(0)\n",
        "X=[[1, 2, 3, 2.5],\n",
        "  [2.0, 5.0, -1.0, 2.0],\n",
        "  [-1.5, 2.7, 3.3, -0.8]]\n",
        "\n",
        "inputs=[0, 2, -1, 3.3, -2.7, 1.1, 2.2, -100]\n",
        "outputs=[]\n",
        "for i in inputs:\n",
        "  if i>0:\n",
        "    outputs.append(i)\n",
        "  elif i<=0:\n",
        "    outputs.append(0)\n",
        "\n",
        "print(outputs)\n"
      ],
      "metadata": {
        "id": "NrCWWYUVHeMn",
        "colab": {
          "base_uri": "https://localhost:8080/"
        },
        "outputId": "479173d9-faec-47cc-8f10-54d3784bd4c1"
      },
      "execution_count": null,
      "outputs": [
        {
          "output_type": "stream",
          "name": "stdout",
          "text": [
            "[0, 2, 0, 3.3, 0, 1.1, 2.2, 0]\n"
          ]
        }
      ]
    },
    {
      "cell_type": "code",
      "source": [
        "pip install nnfs"
      ],
      "metadata": {
        "colab": {
          "base_uri": "https://localhost:8080/"
        },
        "id": "b91lpUxLaGNe",
        "outputId": "111b8c85-e4b6-49a8-f28a-861e1a3dee69"
      },
      "execution_count": null,
      "outputs": [
        {
          "output_type": "stream",
          "name": "stdout",
          "text": [
            "Collecting nnfs\n",
            "  Downloading nnfs-0.5.1-py3-none-any.whl (9.1 kB)\n",
            "Requirement already satisfied: numpy in /usr/local/lib/python3.10/dist-packages (from nnfs) (1.25.2)\n",
            "Installing collected packages: nnfs\n",
            "Successfully installed nnfs-0.5.1\n"
          ]
        }
      ]
    },
    {
      "cell_type": "code",
      "source": [
        "import numpy as np\n",
        "\n",
        "np.random.seed(0)\n",
        "X=[[1, 2, 3, 2.5],\n",
        "  [2.0, 5.0, -1.0, 2.0],\n",
        "  [-1.5, 2.7, 3.3, -0.8]]\n",
        "\n",
        "class Layer_Dense:\n",
        "  def __init__(self, n_inputs, n_neurons):\n",
        "    self.weights=0.10*np.random.randn(n_inputs, n_neurons)\n",
        "    self.biases=np.zeros((1, n_neurons))\n",
        "  def forward(self, inputs):\n",
        "    self.output=np.dot(inputs, self.weights)+self.biases\n",
        "\n",
        "\n",
        "class Activation_ReLU:\n",
        "  def forward(self, inputs):\n",
        "    self.output=np.maximum(0,inputs)\n",
        "\n",
        "layer1=Layer_Dense(4, 5)\n",
        "layer2=Layer_Dense(5, 2)\n",
        "\n",
        "layer1.forward(X)\n",
        "# print(layer1.output)\n",
        "layer2.forward(layer1.output)\n",
        "print(layer2.output)"
      ],
      "metadata": {
        "id": "ssadsfJdYpKB"
      },
      "execution_count": null,
      "outputs": []
    },
    {
      "cell_type": "code",
      "source": [
        "def spiral_data(points, classes):\n",
        "    X = np.zeros((points*classes, 2))\n",
        "    y = np.zeros(points*classes, dtype='uint8')\n",
        "    for class_number in range(classes):\n",
        "        ix = range(points*class_number, points*(class_number+1))\n",
        "        r = np.linspace(0.0, 1, points)  # radius\n",
        "        t = np.linspace(class_number*4, (class_number+1)*4, points) + np.random.randn(points)*0.2\n",
        "        X[ix] = np.c_[r*np.sin(t*2.5), r*np.cos(t*2.5)]\n",
        "        y[ix] = class_number\n",
        "    return X, y"
      ],
      "metadata": {
        "id": "p_hrLbSEcdQG"
      },
      "execution_count": null,
      "outputs": []
    },
    {
      "cell_type": "code",
      "source": [
        "import numpy as np\n",
        "import nnfs\n",
        "from nnfs.datasets import spiral_data\n",
        "\n",
        "nnfs.init()\n",
        "\n",
        "X, y = spiral_data(100, 3)\n",
        "\n",
        "\n",
        "class Layer_Dense:\n",
        "    def __init__(self, n_inputs, n_neurons):\n",
        "        self.weights = 0.10 * np.random.randn(n_inputs, n_neurons)\n",
        "        self.biases = np.zeros((1, n_neurons))\n",
        "    def forward(self, inputs):\n",
        "        self.output = np.dot(inputs, self.weights) + self.biases\n",
        "\n",
        "\n",
        "class Activation_ReLU:\n",
        "    def forward(self, inputs):\n",
        "        self.output = np.maximum(0, inputs)\n",
        "\n",
        "\n",
        "layer1 = Layer_Dense(2,5)\n",
        "activation1 = Activation_ReLU()\n",
        "\n",
        "layer1.forward(X)\n",
        "\n",
        "# print(layer1.output)\n",
        "activation1.forward(layer1.output)\n",
        "print(activation1.output)"
      ],
      "metadata": {
        "colab": {
          "base_uri": "https://localhost:8080/"
        },
        "id": "tyMsp27ucibY",
        "outputId": "d6c772c7-4a5d-477b-c240-80ef9078720f"
      },
      "execution_count": null,
      "outputs": [
        {
          "output_type": "stream",
          "name": "stdout",
          "text": [
            "[[0.00000000e+00 0.00000000e+00 0.00000000e+00 0.00000000e+00\n",
            "  0.00000000e+00]\n",
            " [0.00000000e+00 0.00000000e+00 0.00000000e+00 4.65504505e-04\n",
            "  4.56846210e-05]\n",
            " [0.00000000e+00 5.93469958e-05 0.00000000e+00 2.03573116e-04\n",
            "  6.10024377e-04]\n",
            " ...\n",
            " [1.13291524e-01 0.00000000e+00 0.00000000e+00 8.11079666e-02\n",
            "  0.00000000e+00]\n",
            " [1.34588361e-01 0.00000000e+00 3.09493970e-02 5.66337556e-02\n",
            "  0.00000000e+00]\n",
            " [1.07817926e-01 0.00000000e+00 0.00000000e+00 8.72561932e-02\n",
            "  0.00000000e+00]]\n"
          ]
        }
      ]
    },
    {
      "cell_type": "code",
      "source": [
        "#softmax activation function to resolve the negative issue for example\n",
        "#if something is -900 or -20 then it's feed though the neural network we\n",
        "#would never know which is -900 or -20 so to resolve this issue we need softmax activation\n",
        "#function\n",
        "import math\n",
        "\n",
        "layer_outputs=[4.8, 1.21, 2.385]\n",
        "E=math.e\n",
        "exp_values=[]\n",
        "for output in layer_outputs:\n",
        "  exp_values.append(E**output)\n",
        "\n",
        "print(exp_values)\n",
        "\n",
        "norm_base=sum(exp_values)\n",
        "norm_values=[]\n",
        "for value in exp_values:\n",
        "  norm_values.append(value/norm_base)\n",
        "\n",
        "print(norm_values)\n",
        "print(sum(norm_values))\n"
      ],
      "metadata": {
        "colab": {
          "base_uri": "https://localhost:8080/"
        },
        "id": "N3vNfbhMdnxi",
        "outputId": "af206f67-90dc-469a-bd4f-8d837493231a"
      },
      "execution_count": null,
      "outputs": [
        {
          "output_type": "stream",
          "name": "stdout",
          "text": [
            "[121.51041751873483, 3.353484652549023, 10.859062664920513]\n",
            "[0.8952826639572619, 0.024708306782099374, 0.0800090292606387]\n",
            "0.9999999999999999\n"
          ]
        }
      ]
    },
    {
      "cell_type": "code",
      "source": [
        "import numpy as np\n",
        "\n",
        "\n",
        "layer_outputs=[4.8, 1.21, 2.385]\n",
        "exp_values=np.exp(layer_outputs)\n",
        "norm_values=exp_values/np.sum(exp_values)\n",
        "print(norm_values)\n",
        "print(sum(norm_values))"
      ],
      "metadata": {
        "colab": {
          "base_uri": "https://localhost:8080/"
        },
        "id": "PxnIjbUpjXCx",
        "outputId": "679203e9-4e1f-4870-c539-d1197ed6ecad"
      },
      "execution_count": null,
      "outputs": [
        {
          "output_type": "stream",
          "name": "stdout",
          "text": [
            "[0.89528266 0.02470831 0.08000903]\n",
            "0.9999999999999999\n"
          ]
        }
      ]
    },
    {
      "cell_type": "code",
      "source": [
        "import numpy as np\n",
        "\n",
        "layer_outputs=[[4.8, 1.21, 2.385],\n",
        "               [8.9, 1.81, 0.2],\n",
        "               [1.41, 1.051, 0.026]]\n",
        "\n",
        "exp_values=np.exp(layer_outputs)\n",
        "#axis 1 sum row wise that's what we need\n",
        "#print(np.sum(layer_outputs, axis=1, keepdims=True))\n",
        "\n",
        "norm_values=exp_values/np.sum(exp_values, axis=1, keepdims=True)\n",
        "\n",
        "print(norm_values)\n"
      ],
      "metadata": {
        "colab": {
          "base_uri": "https://localhost:8080/"
        },
        "id": "viikTPLcm2tT",
        "outputId": "f269c5ae-8d31-4ae1-9f55-337113efe900"
      },
      "execution_count": null,
      "outputs": [
        {
          "output_type": "stream",
          "name": "stdout",
          "text": [
            "[[8.95282664e-01 2.47083068e-02 8.00090293e-02]\n",
            " [9.99001016e-01 8.32564815e-04 1.66419394e-04]\n",
            " [5.13097164e-01 3.58333899e-01 1.28568936e-01]]\n"
          ]
        }
      ]
    },
    {
      "cell_type": "code",
      "source": [
        "import numpy as np\n",
        "from nnfs.datasets import spiral_data\n",
        "\n",
        "nnfs.init()\n",
        "\n",
        "#defining the inputs, outputs, neurons and calculating the output\n",
        "class Layer_Dense:\n",
        "  def __init__(self, n_inputs, n_neurons):\n",
        "    self.weights=0.10*np.random.randn(n_inputs, n_neurons)\n",
        "    self.biases=np.zeros((1, n_neurons))\n",
        "  def forward(self, inputs):\n",
        "    self.output=np.dot(inputs, self.weights)+self.biases\n",
        "\n",
        "\n",
        "class Activation_ReLU:\n",
        "  def forward(self, inputs):\n",
        "    self.output=np.maximum(0,inputs)\n",
        "\n",
        "\n",
        "class Activation_Softmax:\n",
        "  def forward(self,inputs):\n",
        "    exp_values=np.exp(inputs-np.max(inputs, axis=1, keepdims=True))\n",
        "    probabilities=exp_values/np.sum(exp_values, axis=1, keepdims=True)\n",
        "    self.output=probabilities\n",
        "\n",
        "X,y=spiral_data(samples=100, classes=3)\n",
        "\n",
        "dense1=Layer_Dense(2,3)\n",
        "activation1=Activation_ReLU()\n",
        "dense2=Layer_Dense(3,3)\n",
        "activation2=Activation_Softmax()\n",
        "\n",
        "actiavtion2=Activation_Softmax()\n",
        "\n",
        "dense1.forward(X)\n",
        "activation1.forward(dense1.output)\n",
        "dense2.forward(activation1.output)\n",
        "activation2.forward(dense2.output)\n",
        "\n",
        "print(activation2.output[:5])\n",
        "\n",
        "\n"
      ],
      "metadata": {
        "colab": {
          "base_uri": "https://localhost:8080/"
        },
        "id": "n0Hsv5mirkFd",
        "outputId": "50b992ec-56ac-409a-b3b2-290b9a862b8c"
      },
      "execution_count": null,
      "outputs": [
        {
          "output_type": "stream",
          "name": "stdout",
          "text": [
            "[[0.33333334 0.33333334 0.33333334]\n",
            " [0.33331734 0.3333183  0.33336434]\n",
            " [0.3332888  0.33329153 0.33341965]\n",
            " [0.33325943 0.33326396 0.33347666]\n",
            " [0.33323312 0.33323926 0.33352762]]\n"
          ]
        }
      ]
    },
    {
      "cell_type": "code",
      "source": [
        " #categorical cross function\n",
        "import math\n",
        "softmax_output=[0.7, 0.1, 0.2]\n",
        "#target_class=0\n",
        "target_output=[1, 0, 0]\n",
        "\n",
        "loss=-(math.log(softmax_output[0])*target_output[0]+\n",
        "       math.log(softmax_output[1])*target_output[1]+\n",
        "       math.log(softmax_output[2])*target_output[2])\n",
        "print(loss)\n"
      ],
      "metadata": {
        "colab": {
          "base_uri": "https://localhost:8080/"
        },
        "id": "kkXkuQbR6AIG",
        "outputId": "d2706ced-d61f-4392-ebfc-7491db785b0e"
      },
      "execution_count": null,
      "outputs": [
        {
          "output_type": "stream",
          "name": "stdout",
          "text": [
            "0.35667494393873245\n"
          ]
        }
      ]
    },
    {
      "cell_type": "code",
      "source": [
        "import numpy as np\n",
        "from nnfs.datasets import spiral_data\n",
        "\n",
        "nnfs.init()\n",
        "\n",
        "#defining the inputs, outputs, neurons and calculating the output\n",
        "class Layer_Dense:\n",
        "  def __init__(self, n_inputs, n_neurons):\n",
        "    self.weights=0.10*np.random.randn(n_inputs, n_neurons)\n",
        "    self.biases=np.zeros((1, n_neurons))\n",
        "  def forward(self, inputs):\n",
        "    self.output=np.dot(inputs, self.weights)+self.biases\n",
        "\n",
        "\n",
        "class Activation_ReLU:\n",
        "  def forward(self, inputs):\n",
        "    self.output=np.maximum(0,inputs)\n",
        "\n",
        "\n",
        "class Activation_Softmax:\n",
        "  def forward(self,inputs):\n",
        "    exp_values=np.exp(inputs-np.max(inputs, axis=1, keepdims=True))\n",
        "    probabilities=exp_values/np.sum(exp_values, axis=1, keepdims=True)\n",
        "    self.output=probabilities\n",
        "\n",
        "class Loss:\n",
        "  def calculate(self, output, y):\n",
        "    sample_losses=self.forward(output, y)\n",
        "    data_loss=np.mean(sample_losses)\n",
        "    return data_loss\n",
        "\n",
        "class Loss_CategoricalCrossentropy(Loss):\n",
        "  def forward(self, y_pred, y_true):\n",
        "    sample=len(y_pred)\n",
        "    y_pred_cliped=np.clip(y_pred, 1e-7, 1-1e-7)\n",
        "\n",
        "\n",
        "\n",
        "X,y=spiral_data(samples=100, classes=3)\n",
        "\n",
        "dense1=Layer_Dense(2,3)\n",
        "activation1=Activation_ReLU()\n",
        "dense2=Layer_Dense(3,3)\n",
        "activation2=Activation_Softmax()\n",
        "\n",
        "actiavtion2=Activation_Softmax()\n",
        "\n",
        "dense1.forward(X)\n",
        "activation1.forward(dense1.output)\n",
        "dense2.forward(activation1.output)\n",
        "activation2.forward(dense2.output)\n",
        "\n",
        "print(activation2.output[:5])\n",
        "\n"
      ],
      "metadata": {
        "id": "8FZgGS3INzos"
      },
      "execution_count": null,
      "outputs": []
    }
  ]
}