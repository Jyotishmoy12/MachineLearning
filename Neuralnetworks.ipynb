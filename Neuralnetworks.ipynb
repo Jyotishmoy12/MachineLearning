{
  "nbformat": 4,
  "nbformat_minor": 0,
  "metadata": {
    "colab": {
      "provenance": [],
      "authorship_tag": "ABX9TyP17TtN/X3kZzLEMl5guu74",
      "include_colab_link": true
    },
    "kernelspec": {
      "name": "python3",
      "display_name": "Python 3"
    },
    "language_info": {
      "name": "python"
    }
  },
  "cells": [
    {
      "cell_type": "markdown",
      "metadata": {
        "id": "view-in-github",
        "colab_type": "text"
      },
      "source": [
        "<a href=\"https://colab.research.google.com/github/Jyotishmoy12/NeuralNetworks/blob/main/Neuralnetworks.ipynb\" target=\"_parent\"><img src=\"https://colab.research.google.com/assets/colab-badge.svg\" alt=\"Open In Colab\"/></a>"
      ]
    },
    {
      "cell_type": "code",
      "execution_count": 5,
      "metadata": {
        "colab": {
          "base_uri": "https://localhost:8080/"
        },
        "id": "-VekkIVKU9Vk",
        "outputId": "8ca3c7ae-c86f-4bc2-efc1-846b63e65b16"
      },
      "outputs": [
        {
          "output_type": "stream",
          "name": "stdout",
          "text": [
            "[4.8, 1.21, 2.385]\n"
          ]
        }
      ],
      "source": [
        "#3 neurons 4 outputs\n",
        "inputs=[1, 2, 3, 2.5]\n",
        "weights1=[0.2, 0.8,-0.5, 1.0]\n",
        "weights2=[0.5, -0.91, 0.26, -0.5]\n",
        "weights3=[-0.26, -0.27, 0.17, 0.87]\n",
        "bias1=2\n",
        "bias2=3\n",
        "bias3=0.5\n",
        "\n",
        "output=[inputs[0]*weights1[0]+inputs[1]*weights1[1]+inputs[2]*weights1[2]+inputs[3]*weights1[3]+bias1,\n",
        "        inputs[0]*weights2[0]+inputs[1]*weights2[1]+inputs[2]*weights2[2]+inputs[3]*weights2[3]+bias2,\n",
        "        inputs[0]*weights3[0]+inputs[1]*weights3[1]+inputs[2]*weights3[2]+inputs[3]*weights3[3]+bias3]\n",
        "print(output )"
      ]
    },
    {
      "cell_type": "code",
      "source": [
        "inputs=[1, 2, 3, 2.5]\n",
        "weights=[[0.2, 0.8,-0.5, 1.0],\n",
        "         [0.5, -0.91, 0.26, -0.5],\n",
        "         [-0.26, -0.27, 0.17, 0.87]]\n",
        "\n",
        "biases=[2, 3, 0.5]\n",
        "\n",
        "layer_outputs=[] #output of current layer\n",
        "for neuron_weights,neuron_bias in zip(weights, biases):\n",
        "  neuron_output=0 #output of the given neuron\n",
        "  for n_input,weight in zip(inputs, neuron_weights):\n",
        "    neuron_output+=n_input*weight\n",
        "  neuron_output+=neuron_bias\n",
        "  layer_outputs.append(neuron_output)\n",
        "\n",
        "print(layer_outputs)"
      ],
      "metadata": {
        "colab": {
          "base_uri": "https://localhost:8080/"
        },
        "id": "j_wrhpRodgmA",
        "outputId": "21dd7880-9f03-4b70-b621-c8877d07d666"
      },
      "execution_count": 8,
      "outputs": [
        {
          "output_type": "stream",
          "name": "stdout",
          "text": [
            "[4.8, 1.21, 2.385]\n"
          ]
        }
      ]
    },
    {
      "cell_type": "code",
      "source": [
        "import numpy as np\n",
        "inputs=[1, 2, 3, 2.5]\n",
        "weights=[0.2, 0.8, -0.5, 1.0]\n",
        "bias=2\n",
        "output=np.dot(inputs, weights)+bias\n",
        "print(output)\n"
      ],
      "metadata": {
        "colab": {
          "base_uri": "https://localhost:8080/"
        },
        "id": "-l9X2Q_zj14r",
        "outputId": "bdacba02-de15-4a6c-be93-9a7662dbd397"
      },
      "execution_count": 9,
      "outputs": [
        {
          "output_type": "stream",
          "name": "stdout",
          "text": [
            "4.8\n"
          ]
        }
      ]
    },
    {
      "cell_type": "code",
      "source": [
        "#3 neurons 4 outputs\n",
        "import numpy as np\n",
        "inputs=[1, 2, 3, 2.5]\n",
        "weights=[[0.2, 0.8,-0.5, 1.0],\n",
        "         [0.5, -0.91, 0.26, -0.5],\n",
        "         [-0.26, -0.27, 0.17, 0.87]]\n",
        "\n",
        "biases=[2, 3, 0.5]\n",
        "output=np.dot(weights, inputs)+biases  #why weights are before than inputs?\n",
        "#we want things to be indexed by weights not by inputs\n",
        "print(output)"
      ],
      "metadata": {
        "colab": {
          "base_uri": "https://localhost:8080/"
        },
        "id": "otCPz7gtkZPV",
        "outputId": "f3104111-0d8c-42d1-dde5-eadb798a398c"
      },
      "execution_count": 10,
      "outputs": [
        {
          "output_type": "stream",
          "name": "stdout",
          "text": [
            "[4.8   1.21  2.385]\n"
          ]
        }
      ]
    },
    {
      "cell_type": "code",
      "source": [
        "import numpy as np\n",
        "\n",
        "inputs=[[1, 2, 3, 2.5],\n",
        "        [2.0, 5.0, -1.0, 2.0],\n",
        "        [-1.5, 2.7, 3.3, -0.8]]\n",
        "\n",
        "weights=[[0.2, 0.8,-0.5, 1.0],\n",
        "         [0.5, -0.91, 0.26, -0.5],\n",
        "         [-0.26, -0.27, 0.17, 0.87]]\n",
        "\n",
        "biases=[2, 3, 0.5]\n",
        "output=np.dot(inputs,np.array(weights).T)+biases\n",
        "\n",
        "print(output)"
      ],
      "metadata": {
        "colab": {
          "base_uri": "https://localhost:8080/"
        },
        "id": "wL__FcSMmuEb",
        "outputId": "99ca94d8-062c-4f95-ba64-7172c51d5367"
      },
      "execution_count": 16,
      "outputs": [
        {
          "output_type": "stream",
          "name": "stdout",
          "text": [
            "[[ 4.8    1.21   2.385]\n",
            " [ 8.9   -1.81   0.2  ]\n",
            " [ 1.41   1.051  0.026]]\n"
          ]
        }
      ]
    },
    {
      "cell_type": "code",
      "source": [
        "import numpy as np\n",
        "\n",
        "inputs=[[1, 2, 3, 2.5],\n",
        "        [2.0, 5.0, -1.0, 2.0],\n",
        "        [-1.5, 2.7, 3.3, -0.8]]\n",
        "\n",
        "weights=[[0.2, 0.8,-0.5, 1.0],\n",
        "         [0.5, -0.91, 0.26, -0.5],\n",
        "         [-0.26, -0.27, 0.17, 0.87]]\n",
        "\n",
        "biases=[2, 3, 0.5]\n",
        "\n",
        "weights2=[[0.1 , -0.14, 0.5],\n",
        "         [-0.5, 0.12, -0.33],\n",
        "         [-0.44, 0.73, -0.13]]\n",
        "\n",
        "biases2=[-1, 2, -0.5]\n",
        "\n",
        "layer1_output=np.dot(inputs,np.array(weights).T)+biases\n",
        "layer2_output=np.dot(layer1_output,np.array(weights2).T)+biases2\n",
        "\n",
        "print(layer2_output)"
      ],
      "metadata": {
        "colab": {
          "base_uri": "https://localhost:8080/"
        },
        "id": "Krfclo1W17M3",
        "outputId": "4145eecc-a5c3-4d6f-c72c-f573820fb645"
      },
      "execution_count": 18,
      "outputs": [
        {
          "output_type": "stream",
          "name": "stdout",
          "text": [
            "[[ 0.5031  -1.04185 -2.03875]\n",
            " [ 0.2434  -2.7332  -5.7633 ]\n",
            " [-0.99314  1.41254 -0.35655]]\n"
          ]
        }
      ]
    },
    {
      "cell_type": "code",
      "source": [
        "import numpy as np\n",
        "\n",
        "X=[[1, 2, 3, 2.5],\n",
        "  [2.0, 5.0, -1.0, 2.0],\n",
        "  [-1.5, 2.7, 3.3, -0.8]]\n",
        "\n",
        "\n",
        ""
      ],
      "metadata": {
        "id": "TADw1vVS3xGO"
      },
      "execution_count": null,
      "outputs": []
    }
  ]
}